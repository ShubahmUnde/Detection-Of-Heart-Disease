{
 "cells": [
  {
   "cell_type": "code",
   "execution_count": null,
   "metadata": {},
   "outputs": [],
   "source": []
  },
  {
   "cell_type": "markdown",
   "metadata": {},
   "source": [
    "# Import libraries\n"
   ]
  },
  {
   "cell_type": "code",
   "execution_count": 1,
   "metadata": {},
   "outputs": [],
   "source": [
    "# Import Libraries\n",
    "import pandas as pd\n",
    "import numpy as np\n",
    "from sklearn.model_selection import train_test_split\n",
    "from sklearn.model_selection import KFold\n",
    "from sklearn.preprocessing import LabelEncoder"
   ]
  },
  {
   "cell_type": "markdown",
   "metadata": {},
   "source": [
    "#OLS library for linear regression"
   ]
  },
  {
   "cell_type": "code",
   "execution_count": 2,
   "metadata": {},
   "outputs": [],
   "source": [
    "import statsmodels.api as sm"
   ]
  },
  {
   "cell_type": "markdown",
   "metadata": {},
   "source": [
    "#Visualisation"
   ]
  },
  {
   "cell_type": "code",
   "execution_count": 3,
   "metadata": {},
   "outputs": [],
   "source": [
    "import pylab\n",
    "import matplotlib.pyplot as plt\n",
    "import seaborn as sns"
   ]
  },
  {
   "cell_type": "code",
   "execution_count": 4,
   "metadata": {},
   "outputs": [],
   "source": [
    "from sklearn.metrics import mean_squared_error"
   ]
  },
  {
   "cell_type": "code",
   "execution_count": 5,
   "metadata": {},
   "outputs": [],
   "source": [
    "import scipy.stats as stats"
   ]
  },
  {
   "cell_type": "markdown",
   "metadata": {},
   "source": [
    "#VIF -> Variable Infliation factor"
   ]
  },
  {
   "cell_type": "code",
   "execution_count": 6,
   "metadata": {},
   "outputs": [],
   "source": [
    "from statsmodels.stats.outliers_influence import variance_inflation_factor"
   ]
  },
  {
   "cell_type": "markdown",
   "metadata": {},
   "source": [
    "#VIF check correlation amongs features and find out which feature has maximum strength of correlation"
   ]
  },
  {
   "cell_type": "markdown",
   "metadata": {},
   "source": [
    "#faeture selection for classification"
   ]
  },
  {
   "cell_type": "code",
   "execution_count": 7,
   "metadata": {},
   "outputs": [],
   "source": [
    "from sklearn.feature_selection import f_classif"
   ]
  },
  {
   "cell_type": "code",
   "execution_count": 8,
   "metadata": {},
   "outputs": [
    {
     "data": {
      "text/html": [
       "<div>\n",
       "<style scoped>\n",
       "    .dataframe tbody tr th:only-of-type {\n",
       "        vertical-align: middle;\n",
       "    }\n",
       "\n",
       "    .dataframe tbody tr th {\n",
       "        vertical-align: top;\n",
       "    }\n",
       "\n",
       "    .dataframe thead th {\n",
       "        text-align: right;\n",
       "    }\n",
       "</style>\n",
       "<table border=\"1\" class=\"dataframe\">\n",
       "  <thead>\n",
       "    <tr style=\"text-align: right;\">\n",
       "      <th></th>\n",
       "      <th>age</th>\n",
       "      <th>gender</th>\n",
       "      <th>cp</th>\n",
       "      <th>trestbps</th>\n",
       "      <th>chol</th>\n",
       "      <th>fbs</th>\n",
       "      <th>restecg</th>\n",
       "      <th>thalach</th>\n",
       "      <th>exang</th>\n",
       "      <th>oldpeak</th>\n",
       "      <th>slope</th>\n",
       "      <th>ca</th>\n",
       "      <th>thal</th>\n",
       "      <th>target</th>\n",
       "    </tr>\n",
       "  </thead>\n",
       "  <tbody>\n",
       "    <tr>\n",
       "      <th>0</th>\n",
       "      <td>63</td>\n",
       "      <td>Male</td>\n",
       "      <td>1</td>\n",
       "      <td>145</td>\n",
       "      <td>233</td>\n",
       "      <td>1</td>\n",
       "      <td>2</td>\n",
       "      <td>150</td>\n",
       "      <td>0</td>\n",
       "      <td>2.3</td>\n",
       "      <td>3</td>\n",
       "      <td>0</td>\n",
       "      <td>fixed</td>\n",
       "      <td>No</td>\n",
       "    </tr>\n",
       "    <tr>\n",
       "      <th>1</th>\n",
       "      <td>67</td>\n",
       "      <td>Male</td>\n",
       "      <td>4</td>\n",
       "      <td>160</td>\n",
       "      <td>286</td>\n",
       "      <td>0</td>\n",
       "      <td>2</td>\n",
       "      <td>108</td>\n",
       "      <td>1</td>\n",
       "      <td>1.5</td>\n",
       "      <td>2</td>\n",
       "      <td>3</td>\n",
       "      <td>normal</td>\n",
       "      <td>Yes</td>\n",
       "    </tr>\n",
       "    <tr>\n",
       "      <th>2</th>\n",
       "      <td>67</td>\n",
       "      <td>Male</td>\n",
       "      <td>4</td>\n",
       "      <td>120</td>\n",
       "      <td>229</td>\n",
       "      <td>0</td>\n",
       "      <td>2</td>\n",
       "      <td>129</td>\n",
       "      <td>1</td>\n",
       "      <td>2.6</td>\n",
       "      <td>2</td>\n",
       "      <td>2</td>\n",
       "      <td>reversible</td>\n",
       "      <td>No</td>\n",
       "    </tr>\n",
       "    <tr>\n",
       "      <th>3</th>\n",
       "      <td>37</td>\n",
       "      <td>Male</td>\n",
       "      <td>3</td>\n",
       "      <td>130</td>\n",
       "      <td>250</td>\n",
       "      <td>0</td>\n",
       "      <td>0</td>\n",
       "      <td>187</td>\n",
       "      <td>0</td>\n",
       "      <td>3.5</td>\n",
       "      <td>3</td>\n",
       "      <td>0</td>\n",
       "      <td>normal</td>\n",
       "      <td>No</td>\n",
       "    </tr>\n",
       "    <tr>\n",
       "      <th>4</th>\n",
       "      <td>41</td>\n",
       "      <td>Female</td>\n",
       "      <td>2</td>\n",
       "      <td>130</td>\n",
       "      <td>204</td>\n",
       "      <td>0</td>\n",
       "      <td>2</td>\n",
       "      <td>172</td>\n",
       "      <td>0</td>\n",
       "      <td>1.4</td>\n",
       "      <td>1</td>\n",
       "      <td>0</td>\n",
       "      <td>normal</td>\n",
       "      <td>No</td>\n",
       "    </tr>\n",
       "    <tr>\n",
       "      <th>...</th>\n",
       "      <td>...</td>\n",
       "      <td>...</td>\n",
       "      <td>...</td>\n",
       "      <td>...</td>\n",
       "      <td>...</td>\n",
       "      <td>...</td>\n",
       "      <td>...</td>\n",
       "      <td>...</td>\n",
       "      <td>...</td>\n",
       "      <td>...</td>\n",
       "      <td>...</td>\n",
       "      <td>...</td>\n",
       "      <td>...</td>\n",
       "      <td>...</td>\n",
       "    </tr>\n",
       "    <tr>\n",
       "      <th>298</th>\n",
       "      <td>52</td>\n",
       "      <td>Male</td>\n",
       "      <td>1</td>\n",
       "      <td>118</td>\n",
       "      <td>186</td>\n",
       "      <td>0</td>\n",
       "      <td>2</td>\n",
       "      <td>190</td>\n",
       "      <td>0</td>\n",
       "      <td>0.0</td>\n",
       "      <td>2</td>\n",
       "      <td>0</td>\n",
       "      <td>fixed</td>\n",
       "      <td>No</td>\n",
       "    </tr>\n",
       "    <tr>\n",
       "      <th>299</th>\n",
       "      <td>43</td>\n",
       "      <td>Female</td>\n",
       "      <td>4</td>\n",
       "      <td>132</td>\n",
       "      <td>341</td>\n",
       "      <td>1</td>\n",
       "      <td>2</td>\n",
       "      <td>136</td>\n",
       "      <td>1</td>\n",
       "      <td>3.0</td>\n",
       "      <td>2</td>\n",
       "      <td>0</td>\n",
       "      <td>reversible</td>\n",
       "      <td>Yes</td>\n",
       "    </tr>\n",
       "    <tr>\n",
       "      <th>300</th>\n",
       "      <td>65</td>\n",
       "      <td>Male</td>\n",
       "      <td>4</td>\n",
       "      <td>135</td>\n",
       "      <td>254</td>\n",
       "      <td>0</td>\n",
       "      <td>2</td>\n",
       "      <td>127</td>\n",
       "      <td>0</td>\n",
       "      <td>2.8</td>\n",
       "      <td>2</td>\n",
       "      <td>1</td>\n",
       "      <td>reversible</td>\n",
       "      <td>Yes</td>\n",
       "    </tr>\n",
       "    <tr>\n",
       "      <th>301</th>\n",
       "      <td>48</td>\n",
       "      <td>Male</td>\n",
       "      <td>4</td>\n",
       "      <td>130</td>\n",
       "      <td>256</td>\n",
       "      <td>1</td>\n",
       "      <td>2</td>\n",
       "      <td>150</td>\n",
       "      <td>1</td>\n",
       "      <td>0.0</td>\n",
       "      <td>1</td>\n",
       "      <td>2</td>\n",
       "      <td>reversible</td>\n",
       "      <td>Yes</td>\n",
       "    </tr>\n",
       "    <tr>\n",
       "      <th>302</th>\n",
       "      <td>63</td>\n",
       "      <td>Female</td>\n",
       "      <td>4</td>\n",
       "      <td>150</td>\n",
       "      <td>407</td>\n",
       "      <td>0</td>\n",
       "      <td>2</td>\n",
       "      <td>154</td>\n",
       "      <td>0</td>\n",
       "      <td>4.0</td>\n",
       "      <td>2</td>\n",
       "      <td>3</td>\n",
       "      <td>reversible</td>\n",
       "      <td>Yes</td>\n",
       "    </tr>\n",
       "  </tbody>\n",
       "</table>\n",
       "<p>303 rows × 14 columns</p>\n",
       "</div>"
      ],
      "text/plain": [
       "     age  gender  cp  trestbps  chol  fbs  restecg  thalach  exang  oldpeak  \\\n",
       "0     63    Male   1       145   233    1        2      150      0      2.3   \n",
       "1     67    Male   4       160   286    0        2      108      1      1.5   \n",
       "2     67    Male   4       120   229    0        2      129      1      2.6   \n",
       "3     37    Male   3       130   250    0        0      187      0      3.5   \n",
       "4     41  Female   2       130   204    0        2      172      0      1.4   \n",
       "..   ...     ...  ..       ...   ...  ...      ...      ...    ...      ...   \n",
       "298   52    Male   1       118   186    0        2      190      0      0.0   \n",
       "299   43  Female   4       132   341    1        2      136      1      3.0   \n",
       "300   65    Male   4       135   254    0        2      127      0      2.8   \n",
       "301   48    Male   4       130   256    1        2      150      1      0.0   \n",
       "302   63  Female   4       150   407    0        2      154      0      4.0   \n",
       "\n",
       "     slope  ca        thal target  \n",
       "0        3   0       fixed     No  \n",
       "1        2   3      normal    Yes  \n",
       "2        2   2  reversible     No  \n",
       "3        3   0      normal     No  \n",
       "4        1   0      normal     No  \n",
       "..     ...  ..         ...    ...  \n",
       "298      2   0       fixed     No  \n",
       "299      2   0  reversible    Yes  \n",
       "300      2   1  reversible    Yes  \n",
       "301      1   2  reversible    Yes  \n",
       "302      2   3  reversible    Yes  \n",
       "\n",
       "[303 rows x 14 columns]"
      ]
     },
     "execution_count": 8,
     "metadata": {},
     "output_type": "execute_result"
    }
   ],
   "source": [
    "data = pd.read_csv('F:\\DATA SCIENCE\\python\\py\\ALGORITHMS\\Logistic regression\\heart.csv')\n",
    "\n",
    "data\n"
   ]
  },
  {
   "cell_type": "markdown",
   "metadata": {},
   "source": [
    "# Data Exploration"
   ]
  },
  {
   "cell_type": "code",
   "execution_count": null,
   "metadata": {},
   "outputs": [],
   "source": [
    "data.head(3)"
   ]
  },
  {
   "cell_type": "code",
   "execution_count": 9,
   "metadata": {},
   "outputs": [
    {
     "data": {
      "text/plain": [
       "age           int64\n",
       "gender       object\n",
       "cp            int64\n",
       "trestbps      int64\n",
       "chol          int64\n",
       "fbs           int64\n",
       "restecg       int64\n",
       "thalach       int64\n",
       "exang         int64\n",
       "oldpeak     float64\n",
       "slope         int64\n",
       "ca            int64\n",
       "thal         object\n",
       "target       object\n",
       "dtype: object"
      ]
     },
     "execution_count": 9,
     "metadata": {},
     "output_type": "execute_result"
    }
   ],
   "source": [
    "data.dtypes"
   ]
  },
  {
   "cell_type": "code",
   "execution_count": 10,
   "metadata": {},
   "outputs": [
    {
     "data": {
      "text/plain": [
       "No     220\n",
       "Yes     83\n",
       "Name: target, dtype: int64"
      ]
     },
     "execution_count": 10,
     "metadata": {},
     "output_type": "execute_result"
    }
   ],
   "source": [
    "# get the count of Y\n",
    "data.target.value_counts()"
   ]
  },
  {
   "cell_type": "markdown",
   "metadata": {},
   "source": [
    "# Data treatments \n",
    "#i) to convert Y variable into numbers<br>\n",
    "use labelencoder"
   ]
  },
  {
   "cell_type": "code",
   "execution_count": 11,
   "metadata": {},
   "outputs": [
    {
     "data": {
      "text/plain": [
       "0      0\n",
       "1      1\n",
       "2      0\n",
       "3      0\n",
       "4      0\n",
       "      ..\n",
       "298    0\n",
       "299    1\n",
       "300    1\n",
       "301    1\n",
       "302    1\n",
       "Name: target, Length: 303, dtype: int32"
      ]
     },
     "execution_count": 11,
     "metadata": {},
     "output_type": "execute_result"
    }
   ],
   "source": [
    "le = LabelEncoder() \n",
    "data['Y'] = le.fit_transform(data.target)\n",
    "data.head(5)\n",
    "# drop the old Y-variable\n",
    "data = data.drop('target',axis=1)\n",
    "# rename Y to old Y-value\n",
    "data = data.rename(columns={'Y':'target'})\n",
    "data.target#so here ther is no any as.factor option so we convert yes no in 1 and 0\n",
    "# split the columns into Numeric-nc and factors-fc"
   ]
  },
  {
   "cell_type": "code",
   "execution_count": 14,
   "metadata": {},
   "outputs": [
    {
     "data": {
      "text/plain": [
       "array(['age', 'cp', 'trestbps', 'chol', 'fbs', 'restecg', 'thalach',\n",
       "       'exang', 'oldpeak', 'slope', 'ca', 'target'], dtype=object)"
      ]
     },
     "execution_count": 14,
     "metadata": {},
     "output_type": "execute_result"
    }
   ],
   "source": [
    "# split the columns into Numeric-nc and factors-fc\n",
    "nc = data.select_dtypes(exclude='object').columns.values\n",
    "nc\n",
    "#12 columns are numebric\n",
    "\n"
   ]
  },
  {
   "cell_type": "code",
   "execution_count": 13,
   "metadata": {},
   "outputs": [
    {
     "data": {
      "text/plain": [
       "array(['gender', 'thal'], dtype=object)"
      ]
     },
     "execution_count": 13,
     "metadata": {},
     "output_type": "execute_result"
    }
   ],
   "source": [
    "fc = data.select_dtypes(include='object').columns.values\n",
    "fc\n",
    "# 2 columns are Factorial"
   ]
  },
  {
   "cell_type": "markdown",
   "metadata": {},
   "source": [
    "# EDA \n"
   ]
  },
  {
   "cell_type": "code",
   "execution_count": 15,
   "metadata": {},
   "outputs": [
    {
     "data": {
      "text/plain": [
       "<AxesSubplot:>"
      ]
     },
     "execution_count": 15,
     "metadata": {},
     "output_type": "execute_result"
    },
    {
     "data": {
      "image/png": "[encoded data removed]",
      "text/plain": [
       "<Figure size 432x288 with 1 Axes>"
      ]
     },
     "metadata": {
      "needs_background": "light"
     },
     "output_type": "display_data"
    }
   ],
   "source": [
    "# NUll check\n",
    "data.isnull().sum()\n",
    "sns.heatmap(data.isnull(),cbar=False) #so it shows no nulls arae there"
   ]
  },
  {
   "cell_type": "markdown",
   "metadata": {},
   "source": [
    "# 0 check"
   ]
  },
  {
   "cell_type": "code",
   "execution_count": 16,
   "metadata": {},
   "outputs": [
    {
     "data": {
      "text/plain": [
       "age           0\n",
       "cp            4\n",
       "trestbps      0\n",
       "chol          0\n",
       "fbs         258\n",
       "restecg     149\n",
       "thalach       0\n",
       "exang       204\n",
       "oldpeak      97\n",
       "slope         0\n",
       "ca          176\n",
       "target      220\n",
       "dtype: int64"
      ]
     },
     "execution_count": 16,
     "metadata": {},
     "output_type": "execute_result"
    }
   ],
   "source": [
    "data[nc][data[nc]==0].count()\n",
    "#so here we got lot of zeros in 6 columns"
   ]
  },
  {
   "cell_type": "markdown",
   "metadata": {},
   "source": [
    "#treatment on column which have ZEROS\n",
    "#Column is \"FBS\""
   ]
  },
  {
   "cell_type": "code",
   "execution_count": 17,
   "metadata": {},
   "outputs": [
    {
     "data": {
      "text/plain": [
       "0.8514851485148515"
      ]
     },
     "execution_count": 17,
     "metadata": {},
     "output_type": "execute_result"
    }
   ],
   "source": [
    "data.fbs.value_counts()\n",
    "258/len(data)#85.14 % is singualrity in this col"
   ]
  },
  {
   "cell_type": "markdown",
   "metadata": {},
   "source": [
    "#Column is \"restecg\""
   ]
  },
  {
   "cell_type": "code",
   "execution_count": 18,
   "metadata": {},
   "outputs": [
    {
     "data": {
      "text/plain": [
       "0    149\n",
       "2    146\n",
       "1      8\n",
       "Name: restecg, dtype: int64"
      ]
     },
     "execution_count": 18,
     "metadata": {},
     "output_type": "execute_result"
    }
   ],
   "source": [
    "data.restecg.value_counts()\n",
    "#its multiclass column where ther eis no singularity"
   ]
  },
  {
   "cell_type": "markdown",
   "metadata": {},
   "source": [
    "olumn is ca"
   ]
  },
  {
   "cell_type": "code",
   "execution_count": 19,
   "metadata": {},
   "outputs": [
    {
     "data": {
      "text/plain": [
       "0    176\n",
       "1     67\n",
       "2     40\n",
       "3     20\n",
       "Name: ca, dtype: int64"
      ]
     },
     "execution_count": 19,
     "metadata": {},
     "output_type": "execute_result"
    }
   ],
   "source": [
    "data.ca.value_counts()\n",
    "#thisis also multiclass factor"
   ]
  },
  {
   "cell_type": "markdown",
   "metadata": {},
   "source": [
    "#analyse the factor columns"
   ]
  },
  {
   "cell_type": "code",
   "execution_count": 22,
   "metadata": {},
   "outputs": [
    {
     "name": "stdout",
     "output_type": "stream",
     "text": [
      "Factor Column =  gender\n",
      "['Male' 'Female']\n",
      "\n",
      "\n",
      "Factor Column =  thal\n",
      "['fixed' 'normal' 'reversible' '1' '2']\n",
      "\n",
      "\n"
     ]
    }
   ],
   "source": [
    "for f in fc:\n",
    "    print(\"Factor Column = \", f)\n",
    "    print(data[f].unique())\n",
    "    print(\"\\n\")"
   ]
  },
  {
   "cell_type": "markdown",
   "metadata": {},
   "source": [
    "#'thal' column has invalid levels that have to be imputed"
   ]
  },
  {
   "cell_type": "code",
   "execution_count": 23,
   "metadata": {},
   "outputs": [
    {
     "data": {
      "text/plain": [
       "normal        168\n",
       "reversible    115\n",
       "fixed          18\n",
       "2               1\n",
       "1               1\n",
       "Name: thal, dtype: int64"
      ]
     },
     "execution_count": 23,
     "metadata": {},
     "output_type": "execute_result"
    }
   ],
   "source": [
    "data.thal.value_counts()"
   ]
  },
  {
   "cell_type": "markdown",
   "metadata": {},
   "source": [
    "#merge '1' and '2' into the level 'fixed'"
   ]
  },
  {
   "cell_type": "code",
   "execution_count": 24,
   "metadata": {},
   "outputs": [
    {
     "name": "stderr",
     "output_type": "stream",
     "text": [
      "<ipython-input-24-9df17838092d>:1: SettingWithCopyWarning: \n",
      "A value is trying to be set on a copy of a slice from a DataFrame\n",
      "\n",
      "See the caveats in the documentation: https://pandas.pydata.org/pandas-docs/stable/user_guide/indexing.html#returning-a-view-versus-a-copy\n",
      "  data.thal[data.thal.isin(['1','2'])] = 'fixed'\n"
     ]
    }
   ],
   "source": [
    "data.thal[data.thal.isin(['1','2'])] = 'fixed'"
   ]
  },
  {
   "cell_type": "markdown",
   "metadata": {},
   "source": [
    "verify the change"
   ]
  },
  {
   "cell_type": "markdown",
   "metadata": {},
   "source": [
    "# Feature Engineering"
   ]
  },
  {
   "cell_type": "code",
   "execution_count": 25,
   "metadata": {},
   "outputs": [
    {
     "data": {
      "text/plain": [
       "normal        168\n",
       "reversible    115\n",
       "fixed          20\n",
       "Name: thal, dtype: int64"
      ]
     },
     "execution_count": 25,
     "metadata": {},
     "output_type": "execute_result"
    }
   ],
   "source": [
    "data.thal.value_counts()"
   ]
  },
  {
   "cell_type": "markdown",
   "metadata": {},
   "source": [
    "#count plot to check the y-distribution"
   ]
  },
  {
   "cell_type": "code",
   "execution_count": 26,
   "metadata": {},
   "outputs": [
    {
     "data": {
      "text/plain": [
       "Text(0.5, 1.0, 'Y-value distribution')"
      ]
     },
     "execution_count": 26,
     "metadata": {},
     "output_type": "execute_result"
    },
    {
     "data": {
      "image/png": "[encoded data removed]",
      "text/plain": [
       "<Figure size 432x288 with 1 Axes>"
      ]
     },
     "metadata": {
      "needs_background": "light"
     },
     "output_type": "display_data"
    }
   ],
   "source": [
    "sns.countplot(x = 'target', data=data)\n",
    "plt.title('Y-value distribution')"
   ]
  },
  {
   "cell_type": "markdown",
   "metadata": {},
   "source": [
    "#dummy variable"
   ]
  },
  {
   "cell_type": "code",
   "execution_count": 27,
   "metadata": {},
   "outputs": [
    {
     "data": {
      "text/html": [
       "<div>\n",
       "<style scoped>\n",
       "    .dataframe tbody tr th:only-of-type {\n",
       "        vertical-align: middle;\n",
       "    }\n",
       "\n",
       "    .dataframe tbody tr th {\n",
       "        vertical-align: top;\n",
       "    }\n",
       "\n",
       "    .dataframe thead th {\n",
       "        text-align: right;\n",
       "    }\n",
       "</style>\n",
       "<table border=\"1\" class=\"dataframe\">\n",
       "  <thead>\n",
       "    <tr style=\"text-align: right;\">\n",
       "      <th></th>\n",
       "      <th>Male</th>\n",
       "    </tr>\n",
       "  </thead>\n",
       "  <tbody>\n",
       "    <tr>\n",
       "      <th>0</th>\n",
       "      <td>1</td>\n",
       "    </tr>\n",
       "    <tr>\n",
       "      <th>1</th>\n",
       "      <td>1</td>\n",
       "    </tr>\n",
       "    <tr>\n",
       "      <th>2</th>\n",
       "      <td>1</td>\n",
       "    </tr>\n",
       "    <tr>\n",
       "      <th>3</th>\n",
       "      <td>1</td>\n",
       "    </tr>\n",
       "    <tr>\n",
       "      <th>4</th>\n",
       "      <td>0</td>\n",
       "    </tr>\n",
       "    <tr>\n",
       "      <th>5</th>\n",
       "      <td>1</td>\n",
       "    </tr>\n",
       "    <tr>\n",
       "      <th>6</th>\n",
       "      <td>0</td>\n",
       "    </tr>\n",
       "    <tr>\n",
       "      <th>7</th>\n",
       "      <td>0</td>\n",
       "    </tr>\n",
       "    <tr>\n",
       "      <th>8</th>\n",
       "      <td>1</td>\n",
       "    </tr>\n",
       "    <tr>\n",
       "      <th>9</th>\n",
       "      <td>1</td>\n",
       "    </tr>\n",
       "  </tbody>\n",
       "</table>\n",
       "</div>"
      ],
      "text/plain": [
       "   Male\n",
       "0     1\n",
       "1     1\n",
       "2     1\n",
       "3     1\n",
       "4     0\n",
       "5     1\n",
       "6     0\n",
       "7     0\n",
       "8     1\n",
       "9     1"
      ]
     },
     "execution_count": 27,
     "metadata": {},
     "output_type": "execute_result"
    }
   ],
   "source": [
    "pd.get_dummies(data.gender).head(20)\n",
    "pd.get_dummies(data.gender, drop_first=True).head(10)"
   ]
  },
  {
   "cell_type": "markdown",
   "metadata": {},
   "source": [
    "#convert factor to dummies"
   ]
  },
  {
   "cell_type": "code",
   "execution_count": 28,
   "metadata": {},
   "outputs": [],
   "source": [
    "new_data = data.copy()"
   ]
  },
  {
   "cell_type": "code",
   "execution_count": 29,
   "metadata": {},
   "outputs": [
    {
     "data": {
      "text/html": [
       "<div>\n",
       "<style scoped>\n",
       "    .dataframe tbody tr th:only-of-type {\n",
       "        vertical-align: middle;\n",
       "    }\n",
       "\n",
       "    .dataframe tbody tr th {\n",
       "        vertical-align: top;\n",
       "    }\n",
       "\n",
       "    .dataframe thead th {\n",
       "        text-align: right;\n",
       "    }\n",
       "</style>\n",
       "<table border=\"1\" class=\"dataframe\">\n",
       "  <thead>\n",
       "    <tr style=\"text-align: right;\">\n",
       "      <th></th>\n",
       "      <th>age</th>\n",
       "      <th>gender</th>\n",
       "      <th>cp</th>\n",
       "      <th>trestbps</th>\n",
       "      <th>chol</th>\n",
       "      <th>fbs</th>\n",
       "      <th>restecg</th>\n",
       "      <th>thalach</th>\n",
       "      <th>exang</th>\n",
       "      <th>oldpeak</th>\n",
       "      <th>slope</th>\n",
       "      <th>ca</th>\n",
       "      <th>thal</th>\n",
       "      <th>target</th>\n",
       "      <th>gender_Male</th>\n",
       "      <th>thal_normal</th>\n",
       "      <th>thal_reversible</th>\n",
       "    </tr>\n",
       "  </thead>\n",
       "  <tbody>\n",
       "    <tr>\n",
       "      <th>0</th>\n",
       "      <td>63</td>\n",
       "      <td>Male</td>\n",
       "      <td>1</td>\n",
       "      <td>145</td>\n",
       "      <td>233</td>\n",
       "      <td>1</td>\n",
       "      <td>2</td>\n",
       "      <td>150</td>\n",
       "      <td>0</td>\n",
       "      <td>2.3</td>\n",
       "      <td>3</td>\n",
       "      <td>0</td>\n",
       "      <td>fixed</td>\n",
       "      <td>0</td>\n",
       "      <td>1</td>\n",
       "      <td>0</td>\n",
       "      <td>0</td>\n",
       "    </tr>\n",
       "    <tr>\n",
       "      <th>1</th>\n",
       "      <td>67</td>\n",
       "      <td>Male</td>\n",
       "      <td>4</td>\n",
       "      <td>160</td>\n",
       "      <td>286</td>\n",
       "      <td>0</td>\n",
       "      <td>2</td>\n",
       "      <td>108</td>\n",
       "      <td>1</td>\n",
       "      <td>1.5</td>\n",
       "      <td>2</td>\n",
       "      <td>3</td>\n",
       "      <td>normal</td>\n",
       "      <td>1</td>\n",
       "      <td>1</td>\n",
       "      <td>1</td>\n",
       "      <td>0</td>\n",
       "    </tr>\n",
       "    <tr>\n",
       "      <th>2</th>\n",
       "      <td>67</td>\n",
       "      <td>Male</td>\n",
       "      <td>4</td>\n",
       "      <td>120</td>\n",
       "      <td>229</td>\n",
       "      <td>0</td>\n",
       "      <td>2</td>\n",
       "      <td>129</td>\n",
       "      <td>1</td>\n",
       "      <td>2.6</td>\n",
       "      <td>2</td>\n",
       "      <td>2</td>\n",
       "      <td>reversible</td>\n",
       "      <td>0</td>\n",
       "      <td>1</td>\n",
       "      <td>0</td>\n",
       "      <td>1</td>\n",
       "    </tr>\n",
       "    <tr>\n",
       "      <th>3</th>\n",
       "      <td>37</td>\n",
       "      <td>Male</td>\n",
       "      <td>3</td>\n",
       "      <td>130</td>\n",
       "      <td>250</td>\n",
       "      <td>0</td>\n",
       "      <td>0</td>\n",
       "      <td>187</td>\n",
       "      <td>0</td>\n",
       "      <td>3.5</td>\n",
       "      <td>3</td>\n",
       "      <td>0</td>\n",
       "      <td>normal</td>\n",
       "      <td>0</td>\n",
       "      <td>1</td>\n",
       "      <td>1</td>\n",
       "      <td>0</td>\n",
       "    </tr>\n",
       "    <tr>\n",
       "      <th>4</th>\n",
       "      <td>41</td>\n",
       "      <td>Female</td>\n",
       "      <td>2</td>\n",
       "      <td>130</td>\n",
       "      <td>204</td>\n",
       "      <td>0</td>\n",
       "      <td>2</td>\n",
       "      <td>172</td>\n",
       "      <td>0</td>\n",
       "      <td>1.4</td>\n",
       "      <td>1</td>\n",
       "      <td>0</td>\n",
       "      <td>normal</td>\n",
       "      <td>0</td>\n",
       "      <td>0</td>\n",
       "      <td>1</td>\n",
       "      <td>0</td>\n",
       "    </tr>\n",
       "  </tbody>\n",
       "</table>\n",
       "</div>"
      ],
      "text/plain": [
       "   age  gender  cp  trestbps  chol  fbs  restecg  thalach  exang  oldpeak  \\\n",
       "0   63    Male   1       145   233    1        2      150      0      2.3   \n",
       "1   67    Male   4       160   286    0        2      108      1      1.5   \n",
       "2   67    Male   4       120   229    0        2      129      1      2.6   \n",
       "3   37    Male   3       130   250    0        0      187      0      3.5   \n",
       "4   41  Female   2       130   204    0        2      172      0      1.4   \n",
       "\n",
       "   slope  ca        thal  target  gender_Male  thal_normal  thal_reversible  \n",
       "0      3   0       fixed       0            1            0                0  \n",
       "1      2   3      normal       1            1            1                0  \n",
       "2      2   2  reversible       0            1            0                1  \n",
       "3      3   0      normal       0            1            1                0  \n",
       "4      1   0      normal       0            0            1                0  "
      ]
     },
     "execution_count": 29,
     "metadata": {},
     "output_type": "execute_result"
    }
   ],
   "source": [
    "for f in fc:\n",
    "    dummy = pd.get_dummies(data[f],drop_first=True,prefix=f)\n",
    "    new_data = new_data.join(dummy)\n",
    "    \n",
    "new_data.head(5)"
   ]
  },
  {
   "cell_type": "code",
   "execution_count": 30,
   "metadata": {},
   "outputs": [
    {
     "data": {
      "text/plain": [
       "Index(['age', 'gender', 'cp', 'trestbps', 'chol', 'fbs', 'restecg', 'thalach',\n",
       "       'exang', 'oldpeak', 'slope', 'ca', 'thal', 'target', 'gender_Male',\n",
       "       'thal_normal', 'thal_reversible'],\n",
       "      dtype='object')"
      ]
     },
     "execution_count": 30,
     "metadata": {},
     "output_type": "execute_result"
    }
   ],
   "source": [
    "new_cols = new_data.columns\n",
    "new_cols"
   ]
  },
  {
   "cell_type": "markdown",
   "metadata": {},
   "source": [
    "#remove the original factors"
   ]
  },
  {
   "cell_type": "code",
   "execution_count": 31,
   "metadata": {},
   "outputs": [
    {
     "data": {
      "text/plain": [
       "['thalach',\n",
       " 'exang',\n",
       " 'age',\n",
       " 'chol',\n",
       " 'oldpeak',\n",
       " 'trestbps',\n",
       " 'ca',\n",
       " 'cp',\n",
       " 'restecg',\n",
       " 'thal_reversible',\n",
       " 'fbs',\n",
       " 'slope',\n",
       " 'gender_Male',\n",
       " 'target',\n",
       " 'thal_normal']"
      ]
     },
     "execution_count": 31,
     "metadata": {},
     "output_type": "execute_result"
    }
   ],
   "source": [
    "new_cols = list(set(new_cols) - set(fc))\n",
    "new_cols"
   ]
  },
  {
   "cell_type": "markdown",
   "metadata": {},
   "source": [
    "#refresh the new dataset with the new columns"
   ]
  },
  {
   "cell_type": "code",
   "execution_count": 32,
   "metadata": {},
   "outputs": [
    {
     "data": {
      "text/html": [
       "<div>\n",
       "<style scoped>\n",
       "    .dataframe tbody tr th:only-of-type {\n",
       "        vertical-align: middle;\n",
       "    }\n",
       "\n",
       "    .dataframe tbody tr th {\n",
       "        vertical-align: top;\n",
       "    }\n",
       "\n",
       "    .dataframe thead th {\n",
       "        text-align: right;\n",
       "    }\n",
       "</style>\n",
       "<table border=\"1\" class=\"dataframe\">\n",
       "  <thead>\n",
       "    <tr style=\"text-align: right;\">\n",
       "      <th></th>\n",
       "      <th>thalach</th>\n",
       "      <th>exang</th>\n",
       "      <th>age</th>\n",
       "      <th>chol</th>\n",
       "      <th>oldpeak</th>\n",
       "      <th>trestbps</th>\n",
       "      <th>ca</th>\n",
       "      <th>cp</th>\n",
       "      <th>restecg</th>\n",
       "      <th>thal_reversible</th>\n",
       "      <th>fbs</th>\n",
       "      <th>slope</th>\n",
       "      <th>gender_Male</th>\n",
       "      <th>target</th>\n",
       "      <th>thal_normal</th>\n",
       "    </tr>\n",
       "  </thead>\n",
       "  <tbody>\n",
       "    <tr>\n",
       "      <th>0</th>\n",
       "      <td>150</td>\n",
       "      <td>0</td>\n",
       "      <td>63</td>\n",
       "      <td>233</td>\n",
       "      <td>2.3</td>\n",
       "      <td>145</td>\n",
       "      <td>0</td>\n",
       "      <td>1</td>\n",
       "      <td>2</td>\n",
       "      <td>0</td>\n",
       "      <td>1</td>\n",
       "      <td>3</td>\n",
       "      <td>1</td>\n",
       "      <td>0</td>\n",
       "      <td>0</td>\n",
       "    </tr>\n",
       "    <tr>\n",
       "      <th>1</th>\n",
       "      <td>108</td>\n",
       "      <td>1</td>\n",
       "      <td>67</td>\n",
       "      <td>286</td>\n",
       "      <td>1.5</td>\n",
       "      <td>160</td>\n",
       "      <td>3</td>\n",
       "      <td>4</td>\n",
       "      <td>2</td>\n",
       "      <td>0</td>\n",
       "      <td>0</td>\n",
       "      <td>2</td>\n",
       "      <td>1</td>\n",
       "      <td>1</td>\n",
       "      <td>1</td>\n",
       "    </tr>\n",
       "    <tr>\n",
       "      <th>2</th>\n",
       "      <td>129</td>\n",
       "      <td>1</td>\n",
       "      <td>67</td>\n",
       "      <td>229</td>\n",
       "      <td>2.6</td>\n",
       "      <td>120</td>\n",
       "      <td>2</td>\n",
       "      <td>4</td>\n",
       "      <td>2</td>\n",
       "      <td>1</td>\n",
       "      <td>0</td>\n",
       "      <td>2</td>\n",
       "      <td>1</td>\n",
       "      <td>0</td>\n",
       "      <td>0</td>\n",
       "    </tr>\n",
       "    <tr>\n",
       "      <th>3</th>\n",
       "      <td>187</td>\n",
       "      <td>0</td>\n",
       "      <td>37</td>\n",
       "      <td>250</td>\n",
       "      <td>3.5</td>\n",
       "      <td>130</td>\n",
       "      <td>0</td>\n",
       "      <td>3</td>\n",
       "      <td>0</td>\n",
       "      <td>0</td>\n",
       "      <td>0</td>\n",
       "      <td>3</td>\n",
       "      <td>1</td>\n",
       "      <td>0</td>\n",
       "      <td>1</td>\n",
       "    </tr>\n",
       "    <tr>\n",
       "      <th>4</th>\n",
       "      <td>172</td>\n",
       "      <td>0</td>\n",
       "      <td>41</td>\n",
       "      <td>204</td>\n",
       "      <td>1.4</td>\n",
       "      <td>130</td>\n",
       "      <td>0</td>\n",
       "      <td>2</td>\n",
       "      <td>2</td>\n",
       "      <td>0</td>\n",
       "      <td>0</td>\n",
       "      <td>1</td>\n",
       "      <td>0</td>\n",
       "      <td>0</td>\n",
       "      <td>1</td>\n",
       "    </tr>\n",
       "    <tr>\n",
       "      <th>...</th>\n",
       "      <td>...</td>\n",
       "      <td>...</td>\n",
       "      <td>...</td>\n",
       "      <td>...</td>\n",
       "      <td>...</td>\n",
       "      <td>...</td>\n",
       "      <td>...</td>\n",
       "      <td>...</td>\n",
       "      <td>...</td>\n",
       "      <td>...</td>\n",
       "      <td>...</td>\n",
       "      <td>...</td>\n",
       "      <td>...</td>\n",
       "      <td>...</td>\n",
       "      <td>...</td>\n",
       "    </tr>\n",
       "    <tr>\n",
       "      <th>298</th>\n",
       "      <td>190</td>\n",
       "      <td>0</td>\n",
       "      <td>52</td>\n",
       "      <td>186</td>\n",
       "      <td>0.0</td>\n",
       "      <td>118</td>\n",
       "      <td>0</td>\n",
       "      <td>1</td>\n",
       "      <td>2</td>\n",
       "      <td>0</td>\n",
       "      <td>0</td>\n",
       "      <td>2</td>\n",
       "      <td>1</td>\n",
       "      <td>0</td>\n",
       "      <td>0</td>\n",
       "    </tr>\n",
       "    <tr>\n",
       "      <th>299</th>\n",
       "      <td>136</td>\n",
       "      <td>1</td>\n",
       "      <td>43</td>\n",
       "      <td>341</td>\n",
       "      <td>3.0</td>\n",
       "      <td>132</td>\n",
       "      <td>0</td>\n",
       "      <td>4</td>\n",
       "      <td>2</td>\n",
       "      <td>1</td>\n",
       "      <td>1</td>\n",
       "      <td>2</td>\n",
       "      <td>0</td>\n",
       "      <td>1</td>\n",
       "      <td>0</td>\n",
       "    </tr>\n",
       "    <tr>\n",
       "      <th>300</th>\n",
       "      <td>127</td>\n",
       "      <td>0</td>\n",
       "      <td>65</td>\n",
       "      <td>254</td>\n",
       "      <td>2.8</td>\n",
       "      <td>135</td>\n",
       "      <td>1</td>\n",
       "      <td>4</td>\n",
       "      <td>2</td>\n",
       "      <td>1</td>\n",
       "      <td>0</td>\n",
       "      <td>2</td>\n",
       "      <td>1</td>\n",
       "      <td>1</td>\n",
       "      <td>0</td>\n",
       "    </tr>\n",
       "    <tr>\n",
       "      <th>301</th>\n",
       "      <td>150</td>\n",
       "      <td>1</td>\n",
       "      <td>48</td>\n",
       "      <td>256</td>\n",
       "      <td>0.0</td>\n",
       "      <td>130</td>\n",
       "      <td>2</td>\n",
       "      <td>4</td>\n",
       "      <td>2</td>\n",
       "      <td>1</td>\n",
       "      <td>1</td>\n",
       "      <td>1</td>\n",
       "      <td>1</td>\n",
       "      <td>1</td>\n",
       "      <td>0</td>\n",
       "    </tr>\n",
       "    <tr>\n",
       "      <th>302</th>\n",
       "      <td>154</td>\n",
       "      <td>0</td>\n",
       "      <td>63</td>\n",
       "      <td>407</td>\n",
       "      <td>4.0</td>\n",
       "      <td>150</td>\n",
       "      <td>3</td>\n",
       "      <td>4</td>\n",
       "      <td>2</td>\n",
       "      <td>1</td>\n",
       "      <td>0</td>\n",
       "      <td>2</td>\n",
       "      <td>0</td>\n",
       "      <td>1</td>\n",
       "      <td>0</td>\n",
       "    </tr>\n",
       "  </tbody>\n",
       "</table>\n",
       "<p>303 rows × 15 columns</p>\n",
       "</div>"
      ],
      "text/plain": [
       "     thalach  exang  age  chol  oldpeak  trestbps  ca  cp  restecg  \\\n",
       "0        150      0   63   233      2.3       145   0   1        2   \n",
       "1        108      1   67   286      1.5       160   3   4        2   \n",
       "2        129      1   67   229      2.6       120   2   4        2   \n",
       "3        187      0   37   250      3.5       130   0   3        0   \n",
       "4        172      0   41   204      1.4       130   0   2        2   \n",
       "..       ...    ...  ...   ...      ...       ...  ..  ..      ...   \n",
       "298      190      0   52   186      0.0       118   0   1        2   \n",
       "299      136      1   43   341      3.0       132   0   4        2   \n",
       "300      127      0   65   254      2.8       135   1   4        2   \n",
       "301      150      1   48   256      0.0       130   2   4        2   \n",
       "302      154      0   63   407      4.0       150   3   4        2   \n",
       "\n",
       "     thal_reversible  fbs  slope  gender_Male  target  thal_normal  \n",
       "0                  0    1      3            1       0            0  \n",
       "1                  0    0      2            1       1            1  \n",
       "2                  1    0      2            1       0            0  \n",
       "3                  0    0      3            1       0            1  \n",
       "4                  0    0      1            0       0            1  \n",
       "..               ...  ...    ...          ...     ...          ...  \n",
       "298                0    0      2            1       0            0  \n",
       "299                1    1      2            0       1            0  \n",
       "300                1    0      2            1       1            0  \n",
       "301                1    1      1            1       1            0  \n",
       "302                1    0      2            0       1            0  \n",
       "\n",
       "[303 rows x 15 columns]"
      ]
     },
     "execution_count": 32,
     "metadata": {},
     "output_type": "execute_result"
    }
   ],
   "source": [
    "new_data = new_data[new_cols]\n",
    "new_data"
   ]
  },
  {
   "cell_type": "markdown",
   "metadata": {},
   "source": [
    "# split the data into train and test"
   ]
  },
  {
   "cell_type": "code",
   "execution_count": 33,
   "metadata": {},
   "outputs": [],
   "source": [
    "trainx,testx,trainy,testy = train_test_split(\n",
    "    new_data.drop('target',axis=1),\n",
    "    new_data['target'],\n",
    "    test_size=0.25)"
   ]
  },
  {
   "cell_type": "code",
   "execution_count": 34,
   "metadata": {},
   "outputs": [
    {
     "data": {
      "text/plain": [
       "234    0\n",
       "243    0\n",
       "72     1\n",
       "79     0\n",
       "84     0\n",
       "      ..\n",
       "148    0\n",
       "174    0\n",
       "135    1\n",
       "250    0\n",
       "180    0\n",
       "Name: target, Length: 76, dtype: int32"
      ]
     },
     "execution_count": 34,
     "metadata": {},
     "output_type": "execute_result"
    }
   ],
   "source": [
    "trainx\n",
    "trainy\n",
    "testy"
   ]
  },
  {
   "cell_type": "code",
   "execution_count": 35,
   "metadata": {},
   "outputs": [
    {
     "name": "stdout",
     "output_type": "stream",
     "text": [
      "trainx=(227, 14), trainy=(227,), testx=(76, 14), test=(76,)\n",
      "Optimization terminated successfully.\n",
      "         Current function value: 0.304674\n",
      "         Iterations 7\n"
     ]
    }
   ],
   "source": [
    "print('trainx={}, trainy={}, testx={}, test={}'.format(trainx.shape,trainy.shape,testx.shape,testy.shape))\n",
    "# build the logistic regression model using Logit()\n",
    "import statsmodels.api as sm \n",
    "#in logistic regression Logit is the maths behind classification\n",
    "#in linear regression OLS(ordinary least squarre is math behind regression)\n",
    "m1 = sm.Logit(trainy,trainx).fit()"
   ]
  },
  {
   "cell_type": "markdown",
   "metadata": {},
   "source": [
    "# model Bulding"
   ]
  },
  {
   "cell_type": "code",
   "execution_count": 36,
   "metadata": {},
   "outputs": [
    {
     "data": {
      "text/html": [
       "<table class=\"simpletable\">\n",
       "<caption>Logit Regression Results</caption>\n",
       "<tr>\n",
       "  <th>Dep. Variable:</th>        <td>target</td>      <th>  No. Observations:  </th>  <td>   227</td>  \n",
       "</tr>\n",
       "<tr>\n",
       "  <th>Model:</th>                 <td>Logit</td>      <th>  Df Residuals:      </th>  <td>   213</td>  \n",
       "</tr>\n",
       "<tr>\n",
       "  <th>Method:</th>                 <td>MLE</td>       <th>  Df Model:          </th>  <td>    13</td>  \n",
       "</tr>\n",
       "<tr>\n",
       "  <th>Date:</th>            <td>Sat, 22 May 2021</td> <th>  Pseudo R-squ.:     </th>  <td>0.4877</td>  \n",
       "</tr>\n",
       "<tr>\n",
       "  <th>Time:</th>                <td>23:44:40</td>     <th>  Log-Likelihood:    </th> <td> -69.161</td> \n",
       "</tr>\n",
       "<tr>\n",
       "  <th>converged:</th>             <td>True</td>       <th>  LL-Null:           </th> <td> -135.01</td> \n",
       "</tr>\n",
       "<tr>\n",
       "  <th>Covariance Type:</th>     <td>nonrobust</td>    <th>  LLR p-value:       </th> <td>9.564e-22</td>\n",
       "</tr>\n",
       "</table>\n",
       "<table class=\"simpletable\">\n",
       "<tr>\n",
       "         <td></td>            <th>coef</th>     <th>std err</th>      <th>z</th>      <th>P>|z|</th>  <th>[0.025</th>    <th>0.975]</th>  \n",
       "</tr>\n",
       "<tr>\n",
       "  <th>thalach</th>         <td>   -0.0261</td> <td>    0.009</td> <td>   -2.907</td> <td> 0.004</td> <td>   -0.044</td> <td>   -0.008</td>\n",
       "</tr>\n",
       "<tr>\n",
       "  <th>exang</th>           <td>    0.7230</td> <td>    0.497</td> <td>    1.455</td> <td> 0.146</td> <td>   -0.251</td> <td>    1.697</td>\n",
       "</tr>\n",
       "<tr>\n",
       "  <th>age</th>             <td>   -0.0213</td> <td>    0.028</td> <td>   -0.769</td> <td> 0.442</td> <td>   -0.076</td> <td>    0.033</td>\n",
       "</tr>\n",
       "<tr>\n",
       "  <th>chol</th>            <td>    0.0020</td> <td>    0.004</td> <td>    0.451</td> <td> 0.652</td> <td>   -0.007</td> <td>    0.011</td>\n",
       "</tr>\n",
       "<tr>\n",
       "  <th>oldpeak</th>         <td>    0.5419</td> <td>    0.247</td> <td>    2.190</td> <td> 0.028</td> <td>    0.057</td> <td>    1.027</td>\n",
       "</tr>\n",
       "<tr>\n",
       "  <th>trestbps</th>        <td>   -0.0125</td> <td>    0.012</td> <td>   -1.073</td> <td> 0.283</td> <td>   -0.035</td> <td>    0.010</td>\n",
       "</tr>\n",
       "<tr>\n",
       "  <th>ca</th>              <td>    0.9783</td> <td>    0.258</td> <td>    3.798</td> <td> 0.000</td> <td>    0.474</td> <td>    1.483</td>\n",
       "</tr>\n",
       "<tr>\n",
       "  <th>cp</th>              <td>    0.5784</td> <td>    0.263</td> <td>    2.201</td> <td> 0.028</td> <td>    0.063</td> <td>    1.093</td>\n",
       "</tr>\n",
       "<tr>\n",
       "  <th>restecg</th>         <td>    0.1356</td> <td>    0.235</td> <td>    0.576</td> <td> 0.565</td> <td>   -0.326</td> <td>    0.597</td>\n",
       "</tr>\n",
       "<tr>\n",
       "  <th>thal_reversible</th> <td>    1.0700</td> <td>    0.789</td> <td>    1.356</td> <td> 0.175</td> <td>   -0.477</td> <td>    2.617</td>\n",
       "</tr>\n",
       "<tr>\n",
       "  <th>fbs</th>             <td>    1.4573</td> <td>    0.690</td> <td>    2.112</td> <td> 0.035</td> <td>    0.105</td> <td>    2.810</td>\n",
       "</tr>\n",
       "<tr>\n",
       "  <th>slope</th>           <td>    0.3129</td> <td>    0.435</td> <td>    0.718</td> <td> 0.473</td> <td>   -0.541</td> <td>    1.166</td>\n",
       "</tr>\n",
       "<tr>\n",
       "  <th>gender_Male</th>     <td>    0.2484</td> <td>    0.564</td> <td>    0.441</td> <td> 0.659</td> <td>   -0.856</td> <td>    1.353</td>\n",
       "</tr>\n",
       "<tr>\n",
       "  <th>thal_normal</th>     <td>   -0.4315</td> <td>    0.827</td> <td>   -0.522</td> <td> 0.602</td> <td>   -2.052</td> <td>    1.189</td>\n",
       "</tr>\n",
       "</table>"
      ],
      "text/plain": [
       "<class 'statsmodels.iolib.summary.Summary'>\n",
       "\"\"\"\n",
       "                           Logit Regression Results                           \n",
       "==============================================================================\n",
       "Dep. Variable:                 target   No. Observations:                  227\n",
       "Model:                          Logit   Df Residuals:                      213\n",
       "Method:                           MLE   Df Model:                           13\n",
       "Date:                Sat, 22 May 2021   Pseudo R-squ.:                  0.4877\n",
       "Time:                        23:44:40   Log-Likelihood:                -69.161\n",
       "converged:                       True   LL-Null:                       -135.01\n",
       "Covariance Type:            nonrobust   LLR p-value:                 9.564e-22\n",
       "===================================================================================\n",
       "                      coef    std err          z      P>|z|      [0.025      0.975]\n",
       "-----------------------------------------------------------------------------------\n",
       "thalach            -0.0261      0.009     -2.907      0.004      -0.044      -0.008\n",
       "exang               0.7230      0.497      1.455      0.146      -0.251       1.697\n",
       "age                -0.0213      0.028     -0.769      0.442      -0.076       0.033\n",
       "chol                0.0020      0.004      0.451      0.652      -0.007       0.011\n",
       "oldpeak             0.5419      0.247      2.190      0.028       0.057       1.027\n",
       "trestbps           -0.0125      0.012     -1.073      0.283      -0.035       0.010\n",
       "ca                  0.9783      0.258      3.798      0.000       0.474       1.483\n",
       "cp                  0.5784      0.263      2.201      0.028       0.063       1.093\n",
       "restecg             0.1356      0.235      0.576      0.565      -0.326       0.597\n",
       "thal_reversible     1.0700      0.789      1.356      0.175      -0.477       2.617\n",
       "fbs                 1.4573      0.690      2.112      0.035       0.105       2.810\n",
       "slope               0.3129      0.435      0.718      0.473      -0.541       1.166\n",
       "gender_Male         0.2484      0.564      0.441      0.659      -0.856       1.353\n",
       "thal_normal        -0.4315      0.827     -0.522      0.602      -2.052       1.189\n",
       "===================================================================================\n",
       "\"\"\""
      ]
     },
     "execution_count": 36,
     "metadata": {},
     "output_type": "execute_result"
    }
   ],
   "source": [
    "m1.summary()"
   ]
  },
  {
   "cell_type": "markdown",
   "metadata": {},
   "source": [
    "#beta values for individual features"
   ]
  },
  {
   "cell_type": "code",
   "execution_count": 37,
   "metadata": {},
   "outputs": [
    {
     "data": {
      "text/plain": [
       "thalach           -0.026077\n",
       "exang              0.722995\n",
       "age               -0.021293\n",
       "chol               0.001983\n",
       "oldpeak            0.541851\n",
       "trestbps          -0.012509\n",
       "ca                 0.978325\n",
       "cp                 0.578405\n",
       "restecg            0.135555\n",
       "thal_reversible    1.070036\n",
       "fbs                1.457345\n",
       "slope              0.312860\n",
       "gender_Male        0.248443\n",
       "thal_normal       -0.431483\n",
       "dtype: float64"
      ]
     },
     "execution_count": 37,
     "metadata": {},
     "output_type": "execute_result"
    }
   ],
   "source": [
    "m1.params"
   ]
  },
  {
   "cell_type": "markdown",
   "metadata": {},
   "source": [
    "# K-Fold Cross Validation"
   ]
  },
  {
   "cell_type": "code",
   "execution_count": 38,
   "metadata": {},
   "outputs": [],
   "source": [
    "from sklearn.metrics import accuracy_score\n"
   ]
  },
  {
   "cell_type": "code",
   "execution_count": 39,
   "metadata": {},
   "outputs": [],
   "source": [
    "folds = 5\n",
    "cv_acc = []"
   ]
  },
  {
   "cell_type": "code",
   "execution_count": 40,
   "metadata": {},
   "outputs": [],
   "source": [
    "X = trainx.values\n",
    "Y = trainy.values"
   ]
  },
  {
   "cell_type": "code",
   "execution_count": 41,
   "metadata": {},
   "outputs": [],
   "source": [
    "kf = KFold(folds)\n",
    "# kf.get_n_splits(X)"
   ]
  },
  {
   "cell_type": "markdown",
   "metadata": {},
   "source": [
    "kf.get_n_splits(X)"
   ]
  },
  {
   "cell_type": "code",
   "execution_count": 42,
   "metadata": {},
   "outputs": [
    {
     "name": "stdout",
     "output_type": "stream",
     "text": [
      "Optimization terminated successfully.\n",
      "         Current function value: 0.310072\n",
      "         Iterations 7\n",
      "Optimization terminated successfully.\n",
      "         Current function value: 0.297831\n",
      "         Iterations 7\n",
      "Optimization terminated successfully.\n",
      "         Current function value: 0.281882\n",
      "         Iterations 8\n",
      "Optimization terminated successfully.\n",
      "         Current function value: 0.289278\n",
      "         Iterations 8\n",
      "Optimization terminated successfully.\n",
      "         Current function value: 0.305034\n",
      "         Iterations 7\n",
      "[0.891, 0.826, 0.756, 0.756, 0.867]\n"
     ]
    }
   ],
   "source": [
    "for train_index,test_index in kf.split(X):\n",
    "    cv_trainx,cv_trainy = X[train_index], Y[train_index]\n",
    "    cv_testx, cv_testy = X[test_index],Y[test_index]\n",
    "\n",
    "    # build model on cv_train and predict on cv_test\n",
    "    m = sm.Logit(cv_trainy,cv_trainx).fit()\n",
    "    p = m.predict(cv_testx)\n",
    "    \n",
    "    # convert prediction into clases\n",
    "    p_Y = p.copy()\n",
    "    \n",
    "    # take the cuttpf as 0.5\n",
    "    p_Y[p_Y < 0.5] = 0\n",
    "    p_Y[p_Y > 0.5] = 1\n",
    "        \n",
    "    \n",
    "    # calculate the accuracy \n",
    "    cv_acc.append(np.round(accuracy_score(cv_testy,p_Y),3))\n",
    "    \n",
    "# print the CV accuracies\n",
    "print(cv_acc)"
   ]
  },
  {
   "cell_type": "markdown",
   "metadata": {},
   "source": [
    "train accuracy"
   ]
  },
  {
   "cell_type": "code",
   "execution_count": 43,
   "metadata": {},
   "outputs": [],
   "source": [
    "np.round(np.mean(cv_acc),2)    \n",
    "  \n",
    "# prediction on the test data\n",
    "p1 = m1.predict(testx)"
   ]
  },
  {
   "cell_type": "markdown",
   "metadata": {},
   "source": [
    "convert probabilities into classes"
   ]
  },
  {
   "cell_type": "code",
   "execution_count": 44,
   "metadata": {},
   "outputs": [],
   "source": [
    "p1_Y = p1.copy()\n",
    "p1_Y[p1_Y < 0.5] = 0\n",
    "p1_Y[p1_Y > 0.5] = 1"
   ]
  },
  {
   "cell_type": "markdown",
   "metadata": {},
   "source": [
    "# Confusion MAtrix"
   ]
  },
  {
   "cell_type": "code",
   "execution_count": null,
   "metadata": {},
   "outputs": [],
   "source": [
    "# from sklearn.metrics import confusion_matrix\n",
    "# Confusion matrix\n",
    "# method 1\n",
    "confusion_matrix(testy,p1_Y)"
   ]
  },
  {
   "cell_type": "markdown",
   "metadata": {},
   "source": [
    "method 2"
   ]
  },
  {
   "cell_type": "code",
   "execution_count": 46,
   "metadata": {},
   "outputs": [
    {
     "data": {
      "text/html": [
       "<div>\n",
       "<style scoped>\n",
       "    .dataframe tbody tr th:only-of-type {\n",
       "        vertical-align: middle;\n",
       "    }\n",
       "\n",
       "    .dataframe tbody tr th {\n",
       "        vertical-align: top;\n",
       "    }\n",
       "\n",
       "    .dataframe thead th {\n",
       "        text-align: right;\n",
       "    }\n",
       "</style>\n",
       "<table border=\"1\" class=\"dataframe\">\n",
       "  <thead>\n",
       "    <tr style=\"text-align: right;\">\n",
       "      <th>predicted</th>\n",
       "      <th>0.0</th>\n",
       "      <th>1.0</th>\n",
       "      <th>All</th>\n",
       "    </tr>\n",
       "    <tr>\n",
       "      <th>actual</th>\n",
       "      <th></th>\n",
       "      <th></th>\n",
       "      <th></th>\n",
       "    </tr>\n",
       "  </thead>\n",
       "  <tbody>\n",
       "    <tr>\n",
       "      <th>0</th>\n",
       "      <td>51</td>\n",
       "      <td>6</td>\n",
       "      <td>57</td>\n",
       "    </tr>\n",
       "    <tr>\n",
       "      <th>1</th>\n",
       "      <td>5</td>\n",
       "      <td>14</td>\n",
       "      <td>19</td>\n",
       "    </tr>\n",
       "    <tr>\n",
       "      <th>All</th>\n",
       "      <td>56</td>\n",
       "      <td>20</td>\n",
       "      <td>76</td>\n",
       "    </tr>\n",
       "  </tbody>\n",
       "</table>\n",
       "</div>"
      ],
      "text/plain": [
       "predicted  0.0  1.0  All\n",
       "actual                  \n",
       "0           51    6   57\n",
       "1            5   14   19\n",
       "All         56   20   76"
      ]
     },
     "execution_count": 46,
     "metadata": {},
     "output_type": "execute_result"
    }
   ],
   "source": [
    "df = pd.DataFrame({'actual':testy,'predicted':p1_Y})\n",
    "pd.crosstab(df.actual,df.predicted,margins=True)"
   ]
  },
  {
   "cell_type": "markdown",
   "metadata": {},
   "source": [
    "classification_report"
   ]
  },
  {
   "cell_type": "code",
   "execution_count": 47,
   "metadata": {},
   "outputs": [
    {
     "name": "stdout",
     "output_type": "stream",
     "text": [
      "              precision    recall  f1-score   support\n",
      "\n",
      "           0       0.91      0.89      0.90        57\n",
      "           1       0.70      0.74      0.72        19\n",
      "\n",
      "    accuracy                           0.86        76\n",
      "   macro avg       0.81      0.82      0.81        76\n",
      "weighted avg       0.86      0.86      0.86        76\n",
      "\n"
     ]
    }
   ],
   "source": [
    "from sklearn.metrics import classification_report\n",
    "print(classification_report(testy,p1_Y))"
   ]
  },
  {
   "cell_type": "markdown",
   "metadata": {},
   "source": [
    "#a"
   ]
  },
  {
   "cell_type": "code",
   "execution_count": 48,
   "metadata": {},
   "outputs": [
    {
     "name": "stdout",
     "output_type": "stream",
     "text": [
      "0.8552631578947368\n"
     ]
    }
   ],
   "source": [
    "print(accuracy_score(testy,p1_Y))"
   ]
  },
  {
   "cell_type": "markdown",
   "metadata": {},
   "source": [
    "\n",
    "# AUC / ROC"
   ]
  },
  {
   "cell_type": "code",
   "execution_count": 49,
   "metadata": {},
   "outputs": [],
   "source": [
    "from sklearn import metrics\n",
    "fpr,tpr,threshold = metrics.roc_curve(testy,p1_Y)"
   ]
  },
  {
   "cell_type": "markdown",
   "metadata": {},
   "source": [
    "auc score"
   ]
  },
  {
   "cell_type": "code",
   "execution_count": 50,
   "metadata": {},
   "outputs": [
    {
     "name": "stdout",
     "output_type": "stream",
     "text": [
      "AUC for the model =  0.8157894736842105\n"
     ]
    }
   ],
   "source": [
    "auc_score = metrics.auc(fpr,tpr)\n",
    "print('AUC for the model = ', auc_score)"
   ]
  },
  {
   "cell_type": "markdown",
   "metadata": {},
   "source": [
    "# plot the ROC"
   ]
  },
  {
   "cell_type": "code",
   "execution_count": 51,
   "metadata": {},
   "outputs": [
    {
     "data": {
      "text/plain": [
       "Text(0, 0.5, 'TPR')"
      ]
     },
     "execution_count": 51,
     "metadata": {},
     "output_type": "execute_result"
    },
    {
     "data": {
      "image/png": "[encoded data removed]",
      "text/plain": [
       "<Figure size 432x288 with 1 Axes>"
      ]
     },
     "metadata": {
      "needs_background": "light"
     },
     "output_type": "display_data"
    }
   ],
   "source": [
    "plt.plot(fpr,tpr,'b')\n",
    "plt.plot([0,1],[0,1], 'r--')\n",
    "plt.xlim([0,1])\n",
    "plt.ylim([0,1])\n",
    "plt.title('ROC Curve. AUC = ' + str(round(auc_score,2)))\n",
    "plt.xlabel('FPR')\n",
    "plt.ylabel('TPR')"
   ]
  },
  {
   "cell_type": "markdown",
   "metadata": {},
   "source": [
    "How to make this model better<br>\n",
    "----------------------------<br>\n",
    "try changing the cutoff<br>\n",
    "check collinearity"
   ]
  },
  {
   "cell_type": "markdown",
   "metadata": {},
   "source": [
    "# Model 2nd With selected Features"
   ]
  },
  {
   "cell_type": "code",
   "execution_count": 52,
   "metadata": {},
   "outputs": [
    {
     "data": {
      "text/plain": [
       "Text(0.5, 1.0, 'correlation Matrix')"
      ]
     },
     "execution_count": 52,
     "metadata": {},
     "output_type": "execute_result"
    },
    {
     "data": {
      "image/png": "[encoded data removed]",
      "text/plain": [
       "<Figure size 432x288 with 2 Axes>"
      ]
     },
     "metadata": {
      "needs_background": "light"
     },
     "output_type": "display_data"
    }
   ],
   "source": [
    "cor = data[nc].corr()\n",
    "cor = np.tril(cor)\n",
    "# sns.set(font_scale=0.50) - to adjust size of font in table\n",
    "sns.heatmap(cor,xticklabels=nc,yticklabels=nc,\n",
    "            vmin=-1,vmax=1,annot=True,square=False)\n",
    "plt.title(\"correlation Matrix\")"
   ]
  },
  {
   "cell_type": "markdown",
   "metadata": {},
   "source": [
    "feature selection<br>\n",
    "try to get more records of +ve class<br>\n",
    "try to change the train/test ratio"
   ]
  },
  {
   "cell_type": "markdown",
   "metadata": {},
   "source": [
    "feature selection"
   ]
  },
  {
   "cell_type": "code",
   "execution_count": 53,
   "metadata": {},
   "outputs": [],
   "source": [
    "features = trainx.columns\n",
    "scores, pval = f_classif(trainx, trainy)"
   ]
  },
  {
   "cell_type": "markdown",
   "metadata": {},
   "source": [
    "store the feature's score in Dataframe<br>\n",
    "cols = ['feature','score','pvalue']"
   ]
  },
  {
   "cell_type": "code",
   "execution_count": 54,
   "metadata": {},
   "outputs": [],
   "source": [
    "df_scores = pd.DataFrame({'feature':features,\n",
    "                         'score':scores,\n",
    "                         'pvalue':pval})"
   ]
  },
  {
   "cell_type": "markdown",
   "metadata": {},
   "source": [
    "sort the dataset in the descending order of Scores"
   ]
  },
  {
   "cell_type": "code",
   "execution_count": 55,
   "metadata": {},
   "outputs": [
    {
     "data": {
      "text/html": [
       "<div>\n",
       "<style scoped>\n",
       "    .dataframe tbody tr th:only-of-type {\n",
       "        vertical-align: middle;\n",
       "    }\n",
       "\n",
       "    .dataframe tbody tr th {\n",
       "        vertical-align: top;\n",
       "    }\n",
       "\n",
       "    .dataframe thead th {\n",
       "        text-align: right;\n",
       "    }\n",
       "</style>\n",
       "<table border=\"1\" class=\"dataframe\">\n",
       "  <thead>\n",
       "    <tr style=\"text-align: right;\">\n",
       "      <th></th>\n",
       "      <th>feature</th>\n",
       "      <th>score</th>\n",
       "      <th>pvalue</th>\n",
       "    </tr>\n",
       "  </thead>\n",
       "  <tbody>\n",
       "    <tr>\n",
       "      <th>6</th>\n",
       "      <td>ca</td>\n",
       "      <td>69.749818</td>\n",
       "      <td>6.908163e-15</td>\n",
       "    </tr>\n",
       "    <tr>\n",
       "      <th>13</th>\n",
       "      <td>thal_normal</td>\n",
       "      <td>57.059138</td>\n",
       "      <td>1.052914e-12</td>\n",
       "    </tr>\n",
       "    <tr>\n",
       "      <th>9</th>\n",
       "      <td>thal_reversible</td>\n",
       "      <td>49.752311</td>\n",
       "      <td>2.127155e-11</td>\n",
       "    </tr>\n",
       "    <tr>\n",
       "      <th>4</th>\n",
       "      <td>oldpeak</td>\n",
       "      <td>47.807670</td>\n",
       "      <td>4.804313e-11</td>\n",
       "    </tr>\n",
       "    <tr>\n",
       "      <th>1</th>\n",
       "      <td>exang</td>\n",
       "      <td>44.425608</td>\n",
       "      <td>2.012446e-10</td>\n",
       "    </tr>\n",
       "    <tr>\n",
       "      <th>0</th>\n",
       "      <td>thalach</td>\n",
       "      <td>39.852705</td>\n",
       "      <td>1.442019e-09</td>\n",
       "    </tr>\n",
       "    <tr>\n",
       "      <th>7</th>\n",
       "      <td>cp</td>\n",
       "      <td>38.141864</td>\n",
       "      <td>3.042891e-09</td>\n",
       "    </tr>\n",
       "    <tr>\n",
       "      <th>11</th>\n",
       "      <td>slope</td>\n",
       "      <td>27.813450</td>\n",
       "      <td>3.132199e-07</td>\n",
       "    </tr>\n",
       "    <tr>\n",
       "      <th>2</th>\n",
       "      <td>age</td>\n",
       "      <td>12.469542</td>\n",
       "      <td>5.016693e-04</td>\n",
       "    </tr>\n",
       "    <tr>\n",
       "      <th>12</th>\n",
       "      <td>gender_Male</td>\n",
       "      <td>7.985348</td>\n",
       "      <td>5.139905e-03</td>\n",
       "    </tr>\n",
       "    <tr>\n",
       "      <th>8</th>\n",
       "      <td>restecg</td>\n",
       "      <td>7.126496</td>\n",
       "      <td>8.149008e-03</td>\n",
       "    </tr>\n",
       "    <tr>\n",
       "      <th>10</th>\n",
       "      <td>fbs</td>\n",
       "      <td>5.927644</td>\n",
       "      <td>1.568411e-02</td>\n",
       "    </tr>\n",
       "    <tr>\n",
       "      <th>5</th>\n",
       "      <td>trestbps</td>\n",
       "      <td>2.316452</td>\n",
       "      <td>1.294158e-01</td>\n",
       "    </tr>\n",
       "    <tr>\n",
       "      <th>3</th>\n",
       "      <td>chol</td>\n",
       "      <td>1.032419</td>\n",
       "      <td>3.106826e-01</td>\n",
       "    </tr>\n",
       "  </tbody>\n",
       "</table>\n",
       "</div>"
      ],
      "text/plain": [
       "            feature      score        pvalue\n",
       "6                ca  69.749818  6.908163e-15\n",
       "13      thal_normal  57.059138  1.052914e-12\n",
       "9   thal_reversible  49.752311  2.127155e-11\n",
       "4           oldpeak  47.807670  4.804313e-11\n",
       "1             exang  44.425608  2.012446e-10\n",
       "0           thalach  39.852705  1.442019e-09\n",
       "7                cp  38.141864  3.042891e-09\n",
       "11            slope  27.813450  3.132199e-07\n",
       "2               age  12.469542  5.016693e-04\n",
       "12      gender_Male   7.985348  5.139905e-03\n",
       "8           restecg   7.126496  8.149008e-03\n",
       "10              fbs   5.927644  1.568411e-02\n",
       "5          trestbps   2.316452  1.294158e-01\n",
       "3              chol   1.032419  3.106826e-01"
      ]
     },
     "execution_count": 55,
     "metadata": {},
     "output_type": "execute_result"
    }
   ],
   "source": [
    "df_scores.sort_values('score',ascending=False,inplace=True)\n",
    "df_scores"
   ]
  },
  {
   "cell_type": "markdown",
   "metadata": {},
   "source": [
    "------------------------------------------------"
   ]
  },
  {
   "cell_type": "markdown",
   "metadata": {},
   "source": [
    "create new model on the basis of highly score"
   ]
  },
  {
   "cell_type": "code",
   "execution_count": 56,
   "metadata": {},
   "outputs": [],
   "source": [
    "new_data2 = new_data[['ca','thalach','oldpeak','thal_normal','cp','thal_reversible','thalach','exang','slope','age','target']]"
   ]
  },
  {
   "cell_type": "markdown",
   "metadata": {},
   "source": [
    "split data"
   ]
  },
  {
   "cell_type": "code",
   "execution_count": 57,
   "metadata": {},
   "outputs": [],
   "source": [
    "trainx,testx,trainy,testy = train_test_split(\n",
    "    new_data.drop('target',axis=1),\n",
    "    new_data['target'],\n",
    "    test_size=0.30)"
   ]
  },
  {
   "cell_type": "markdown",
   "metadata": {},
   "source": [
    "model buid"
   ]
  },
  {
   "cell_type": "code",
   "execution_count": 58,
   "metadata": {},
   "outputs": [
    {
     "name": "stdout",
     "output_type": "stream",
     "text": [
      "Optimization terminated successfully.\n",
      "         Current function value: 0.314367\n",
      "         Iterations 7\n"
     ]
    }
   ],
   "source": [
    "m2 = sm.Logit(trainy,trainx).fit()"
   ]
  },
  {
   "cell_type": "code",
   "execution_count": 59,
   "metadata": {},
   "outputs": [
    {
     "data": {
      "text/html": [
       "<table class=\"simpletable\">\n",
       "<caption>Logit Regression Results</caption>\n",
       "<tr>\n",
       "  <th>Dep. Variable:</th>        <td>target</td>      <th>  No. Observations:  </th>  <td>   212</td>  \n",
       "</tr>\n",
       "<tr>\n",
       "  <th>Model:</th>                 <td>Logit</td>      <th>  Df Residuals:      </th>  <td>   198</td>  \n",
       "</tr>\n",
       "<tr>\n",
       "  <th>Method:</th>                 <td>MLE</td>       <th>  Df Model:          </th>  <td>    13</td>  \n",
       "</tr>\n",
       "<tr>\n",
       "  <th>Date:</th>            <td>Sat, 22 May 2021</td> <th>  Pseudo R-squ.:     </th>  <td>0.4684</td>  \n",
       "</tr>\n",
       "<tr>\n",
       "  <th>Time:</th>                <td>23:46:57</td>     <th>  Log-Likelihood:    </th> <td> -66.646</td> \n",
       "</tr>\n",
       "<tr>\n",
       "  <th>converged:</th>             <td>True</td>       <th>  LL-Null:           </th> <td> -125.36</td> \n",
       "</tr>\n",
       "<tr>\n",
       "  <th>Covariance Type:</th>     <td>nonrobust</td>    <th>  LLR p-value:       </th> <td>6.452e-19</td>\n",
       "</tr>\n",
       "</table>\n",
       "<table class=\"simpletable\">\n",
       "<tr>\n",
       "         <td></td>            <th>coef</th>     <th>std err</th>      <th>z</th>      <th>P>|z|</th>  <th>[0.025</th>    <th>0.975]</th>  \n",
       "</tr>\n",
       "<tr>\n",
       "  <th>thalach</th>         <td>   -0.0293</td> <td>    0.009</td> <td>   -3.214</td> <td> 0.001</td> <td>   -0.047</td> <td>   -0.011</td>\n",
       "</tr>\n",
       "<tr>\n",
       "  <th>exang</th>           <td>   -0.1161</td> <td>    0.528</td> <td>   -0.220</td> <td> 0.826</td> <td>   -1.150</td> <td>    0.918</td>\n",
       "</tr>\n",
       "<tr>\n",
       "  <th>age</th>             <td>   -0.0369</td> <td>    0.030</td> <td>   -1.230</td> <td> 0.219</td> <td>   -0.096</td> <td>    0.022</td>\n",
       "</tr>\n",
       "<tr>\n",
       "  <th>chol</th>            <td>    0.0073</td> <td>    0.006</td> <td>    1.302</td> <td> 0.193</td> <td>   -0.004</td> <td>    0.018</td>\n",
       "</tr>\n",
       "<tr>\n",
       "  <th>oldpeak</th>         <td>    0.5839</td> <td>    0.237</td> <td>    2.459</td> <td> 0.014</td> <td>    0.118</td> <td>    1.049</td>\n",
       "</tr>\n",
       "<tr>\n",
       "  <th>trestbps</th>        <td>   -0.0037</td> <td>    0.013</td> <td>   -0.282</td> <td> 0.778</td> <td>   -0.030</td> <td>    0.022</td>\n",
       "</tr>\n",
       "<tr>\n",
       "  <th>ca</th>              <td>    0.9971</td> <td>    0.272</td> <td>    3.664</td> <td> 0.000</td> <td>    0.464</td> <td>    1.530</td>\n",
       "</tr>\n",
       "<tr>\n",
       "  <th>cp</th>              <td>    0.5844</td> <td>    0.256</td> <td>    2.282</td> <td> 0.023</td> <td>    0.082</td> <td>    1.086</td>\n",
       "</tr>\n",
       "<tr>\n",
       "  <th>restecg</th>         <td>    0.1510</td> <td>    0.236</td> <td>    0.640</td> <td> 0.522</td> <td>   -0.311</td> <td>    0.613</td>\n",
       "</tr>\n",
       "<tr>\n",
       "  <th>thal_reversible</th> <td>    0.0942</td> <td>    0.838</td> <td>    0.112</td> <td> 0.910</td> <td>   -1.547</td> <td>    1.736</td>\n",
       "</tr>\n",
       "<tr>\n",
       "  <th>fbs</th>             <td>    0.5252</td> <td>    0.587</td> <td>    0.895</td> <td> 0.371</td> <td>   -0.625</td> <td>    1.676</td>\n",
       "</tr>\n",
       "<tr>\n",
       "  <th>slope</th>           <td>    0.3499</td> <td>    0.419</td> <td>    0.835</td> <td> 0.404</td> <td>   -0.471</td> <td>    1.171</td>\n",
       "</tr>\n",
       "<tr>\n",
       "  <th>gender_Male</th>     <td>    0.2404</td> <td>    0.590</td> <td>    0.407</td> <td> 0.684</td> <td>   -0.916</td> <td>    1.397</td>\n",
       "</tr>\n",
       "<tr>\n",
       "  <th>thal_normal</th>     <td>   -1.3551</td> <td>    0.894</td> <td>   -1.515</td> <td> 0.130</td> <td>   -3.108</td> <td>    0.398</td>\n",
       "</tr>\n",
       "</table>"
      ],
      "text/plain": [
       "<class 'statsmodels.iolib.summary.Summary'>\n",
       "\"\"\"\n",
       "                           Logit Regression Results                           \n",
       "==============================================================================\n",
       "Dep. Variable:                 target   No. Observations:                  212\n",
       "Model:                          Logit   Df Residuals:                      198\n",
       "Method:                           MLE   Df Model:                           13\n",
       "Date:                Sat, 22 May 2021   Pseudo R-squ.:                  0.4684\n",
       "Time:                        23:46:57   Log-Likelihood:                -66.646\n",
       "converged:                       True   LL-Null:                       -125.36\n",
       "Covariance Type:            nonrobust   LLR p-value:                 6.452e-19\n",
       "===================================================================================\n",
       "                      coef    std err          z      P>|z|      [0.025      0.975]\n",
       "-----------------------------------------------------------------------------------\n",
       "thalach            -0.0293      0.009     -3.214      0.001      -0.047      -0.011\n",
       "exang              -0.1161      0.528     -0.220      0.826      -1.150       0.918\n",
       "age                -0.0369      0.030     -1.230      0.219      -0.096       0.022\n",
       "chol                0.0073      0.006      1.302      0.193      -0.004       0.018\n",
       "oldpeak             0.5839      0.237      2.459      0.014       0.118       1.049\n",
       "trestbps           -0.0037      0.013     -0.282      0.778      -0.030       0.022\n",
       "ca                  0.9971      0.272      3.664      0.000       0.464       1.530\n",
       "cp                  0.5844      0.256      2.282      0.023       0.082       1.086\n",
       "restecg             0.1510      0.236      0.640      0.522      -0.311       0.613\n",
       "thal_reversible     0.0942      0.838      0.112      0.910      -1.547       1.736\n",
       "fbs                 0.5252      0.587      0.895      0.371      -0.625       1.676\n",
       "slope               0.3499      0.419      0.835      0.404      -0.471       1.171\n",
       "gender_Male         0.2404      0.590      0.407      0.684      -0.916       1.397\n",
       "thal_normal        -1.3551      0.894     -1.515      0.130      -3.108       0.398\n",
       "===================================================================================\n",
       "\"\"\""
      ]
     },
     "execution_count": 59,
     "metadata": {},
     "output_type": "execute_result"
    }
   ],
   "source": [
    "m2.summary()"
   ]
  },
  {
   "cell_type": "code",
   "execution_count": 60,
   "metadata": {},
   "outputs": [],
   "source": [
    "  \n",
    "# prediction on the test data\n",
    "p2 = m2.predict(testx)"
   ]
  },
  {
   "cell_type": "markdown",
   "metadata": {},
   "source": [
    "convert probabilities into classes"
   ]
  },
  {
   "cell_type": "code",
   "execution_count": 61,
   "metadata": {},
   "outputs": [],
   "source": [
    "p2_Y = p2.copy()\n",
    "p2_Y[p2_Y < 0.5] = 0\n",
    "p2_Y[p2_Y > 0.5] = 1"
   ]
  },
  {
   "cell_type": "code",
   "execution_count": 62,
   "metadata": {},
   "outputs": [
    {
     "data": {
      "text/plain": [
       "array([[62,  5],\n",
       "       [ 8, 16]], dtype=int64)"
      ]
     },
     "execution_count": 62,
     "metadata": {},
     "output_type": "execute_result"
    }
   ],
   "source": [
    "from sklearn.metrics import confusion_matrix\n",
    "# Confusion matrix\n",
    "# method 1\n",
    "confusion_matrix(testy,p2_Y)"
   ]
  },
  {
   "cell_type": "markdown",
   "metadata": {},
   "source": [
    "method 2"
   ]
  },
  {
   "cell_type": "code",
   "execution_count": 63,
   "metadata": {},
   "outputs": [
    {
     "data": {
      "text/html": [
       "<div>\n",
       "<style scoped>\n",
       "    .dataframe tbody tr th:only-of-type {\n",
       "        vertical-align: middle;\n",
       "    }\n",
       "\n",
       "    .dataframe tbody tr th {\n",
       "        vertical-align: top;\n",
       "    }\n",
       "\n",
       "    .dataframe thead th {\n",
       "        text-align: right;\n",
       "    }\n",
       "</style>\n",
       "<table border=\"1\" class=\"dataframe\">\n",
       "  <thead>\n",
       "    <tr style=\"text-align: right;\">\n",
       "      <th>predicted</th>\n",
       "      <th>0.0</th>\n",
       "      <th>1.0</th>\n",
       "      <th>All</th>\n",
       "    </tr>\n",
       "    <tr>\n",
       "      <th>actual</th>\n",
       "      <th></th>\n",
       "      <th></th>\n",
       "      <th></th>\n",
       "    </tr>\n",
       "  </thead>\n",
       "  <tbody>\n",
       "    <tr>\n",
       "      <th>0</th>\n",
       "      <td>62</td>\n",
       "      <td>5</td>\n",
       "      <td>67</td>\n",
       "    </tr>\n",
       "    <tr>\n",
       "      <th>1</th>\n",
       "      <td>8</td>\n",
       "      <td>16</td>\n",
       "      <td>24</td>\n",
       "    </tr>\n",
       "    <tr>\n",
       "      <th>All</th>\n",
       "      <td>70</td>\n",
       "      <td>21</td>\n",
       "      <td>91</td>\n",
       "    </tr>\n",
       "  </tbody>\n",
       "</table>\n",
       "</div>"
      ],
      "text/plain": [
       "predicted  0.0  1.0  All\n",
       "actual                  \n",
       "0           62    5   67\n",
       "1            8   16   24\n",
       "All         70   21   91"
      ]
     },
     "execution_count": 63,
     "metadata": {},
     "output_type": "execute_result"
    }
   ],
   "source": [
    "df = pd.DataFrame({'actual':testy,'predicted':p2_Y})\n",
    "pd.crosstab(df.actual,df.predicted,margins=True)"
   ]
  },
  {
   "cell_type": "markdown",
   "metadata": {},
   "source": [
    "classification_report"
   ]
  },
  {
   "cell_type": "code",
   "execution_count": 64,
   "metadata": {},
   "outputs": [
    {
     "name": "stdout",
     "output_type": "stream",
     "text": [
      "              precision    recall  f1-score   support\n",
      "\n",
      "           0       0.89      0.93      0.91        67\n",
      "           1       0.76      0.67      0.71        24\n",
      "\n",
      "    accuracy                           0.86        91\n",
      "   macro avg       0.82      0.80      0.81        91\n",
      "weighted avg       0.85      0.86      0.85        91\n",
      "\n"
     ]
    }
   ],
   "source": [
    "from sklearn.metrics import classification_report\n",
    "print(classification_report(testy,p2_Y))"
   ]
  },
  {
   "cell_type": "markdown",
   "metadata": {},
   "source": [
    "accuracy score"
   ]
  },
  {
   "cell_type": "code",
   "execution_count": 65,
   "metadata": {},
   "outputs": [
    {
     "data": {
      "text/plain": [
       "0.857"
      ]
     },
     "execution_count": 65,
     "metadata": {},
     "output_type": "execute_result"
    }
   ],
   "source": [
    "np.round(accuracy_score(testy,p2_Y),3)"
   ]
  },
  {
   "cell_type": "markdown",
   "metadata": {},
   "source": [
    "AUC / ROC"
   ]
  },
  {
   "cell_type": "code",
   "execution_count": 66,
   "metadata": {},
   "outputs": [],
   "source": [
    "from sklearn import metrics\n",
    "fpr,tpr,threshold = metrics.roc_curve(testy,p2_Y)"
   ]
  },
  {
   "cell_type": "markdown",
   "metadata": {},
   "source": [
    "auc score"
   ]
  },
  {
   "cell_type": "code",
   "execution_count": 67,
   "metadata": {},
   "outputs": [
    {
     "name": "stdout",
     "output_type": "stream",
     "text": [
      "AUC for the model =  0.7960199004975124\n"
     ]
    }
   ],
   "source": [
    "auc_score2 = metrics.auc(fpr,tpr)\n",
    "print('AUC for the model = ', auc_score2)"
   ]
  },
  {
   "cell_type": "markdown",
   "metadata": {},
   "source": [
    "OC for 2nd model<br>\n",
    "plot the ROC"
   ]
  },
  {
   "cell_type": "code",
   "execution_count": 68,
   "metadata": {},
   "outputs": [
    {
     "data": {
      "text/plain": [
       "Text(0, 0.5, 'TPR')"
      ]
     },
     "execution_count": 68,
     "metadata": {},
     "output_type": "execute_result"
    },
    {
     "data": {
      "image/png": "[encoded data removed]",
      "text/plain": [
       "<Figure size 432x288 with 1 Axes>"
      ]
     },
     "metadata": {
      "needs_background": "light"
     },
     "output_type": "display_data"
    }
   ],
   "source": [
    "plt.plot(fpr,tpr,'b')\n",
    "plt.plot([0,1],[0,1], 'r--')\n",
    "plt.xlim([0,1])\n",
    "plt.ylim([0,1])\n",
    "plt.title('ROC Curve. AUC = ' + str(round(auc_score2,2)))\n",
    "plt.xlabel('FPR')\n",
    "plt.ylabel('TPR')"
   ]
  },
  {
   "cell_type": "code",
   "execution_count": null,
   "metadata": {},
   "outputs": [],
   "source": []
  }
 ],
 "metadata": {
  "kernelspec": {
   "display_name": "Python 3",
   "language": "python",
   "name": "python3"
  },
  "language_info": {
   "codemirror_mode": {
    "name": "ipython",
    "version": 3
   },
   "file_extension": ".py",
   "mimetype": "text/x-python",
   "name": "python",
   "nbconvert_exporter": "python",
   "pygments_lexer": "ipython3",
   "version": "3.8.5"
  }
 },
 "nbformat": 4,
 "nbformat_minor": 2
}
